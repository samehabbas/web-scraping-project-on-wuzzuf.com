{
 "cells": [
  {
   "cell_type": "code",
   "execution_count": 123,
   "metadata": {},
   "outputs": [],
   "source": [
    "# importing liberaries and methods\n",
    "import pandas as pd\n",
    "import numpy as np\n",
    "from bs4 import BeautifulSoup as bs\n",
    "from urllib.request import urlopen"
   ]
  },
  {
   "cell_type": "code",
   "execution_count": 124,
   "metadata": {},
   "outputs": [],
   "source": [
    "# importing url\n",
    "url = \"https://wuzzuf.net/search/jobs/?q=illustrater&a=hpb\""
   ]
  },
  {
   "cell_type": "code",
   "execution_count": 125,
   "metadata": {},
   "outputs": [
    {
     "data": {
      "text/plain": [
       "<http.client.HTTPResponse at 0xd1e18d0>"
      ]
     },
     "execution_count": 125,
     "metadata": {},
     "output_type": "execute_result"
    }
   ],
   "source": [
    "# creating a client based request to get url\n",
    "client = urlopen(url)\n",
    "client\n"
   ]
  },
  {
   "cell_type": "code",
   "execution_count": 126,
   "metadata": {},
   "outputs": [],
   "source": [
    "# create the html code for the full page\n",
    "html = client.read()\n"
   ]
  },
  {
   "cell_type": "code",
   "execution_count": 127,
   "metadata": {},
   "outputs": [],
   "source": [
    "# closing request\n",
    "client.close()"
   ]
  },
  {
   "cell_type": "code",
   "execution_count": 128,
   "metadata": {},
   "outputs": [],
   "source": [
    "# creating an html parser using BeautifulSoup\n",
    "soup = bs(html, 'html.parser')\n",
    "\n"
   ]
  },
  {
   "cell_type": "code",
   "execution_count": 129,
   "metadata": {},
   "outputs": [],
   "source": [
    "# create a container for needed data\n",
    "containers = soup.find_all('div', {'class':'css-1gatmva e1v1l3u10'})\n"
   ]
  },
  {
   "cell_type": "code",
   "execution_count": 130,
   "metadata": {},
   "outputs": [
    {
     "data": {
      "text/plain": [
       "15"
      ]
     },
     "execution_count": 130,
     "metadata": {},
     "output_type": "execute_result"
    }
   ],
   "source": [
    "len(containers)"
   ]
  },
  {
   "cell_type": "code",
   "execution_count": 131,
   "metadata": {},
   "outputs": [
    {
     "data": {
      "text/plain": [
       "'<div class=\"css-1gatmva e1v1l3u10\">\\n <style data-emotion=\"css pkv5jc\">\\n  .css-pkv5jc{position:relative;min-height:60px;}\\n </style>\\n <div class=\"css-pkv5jc\">\\n  <a href=\"https://wuzzuf.net/jobs/careers/Beyond-Insurance-Brokerage-Egypt-66107\" rel=\"noreferrer\" target=\"_blank\">\\n   <style data-emotion=\"css 17095x3\">\\n    .css-17095x3{position:absolute;right:0;top:0;width:60px;height:60px;object-fit:contain;object-position:center center;}\\n   </style>\\n  </a>\\n  <style data-emotion=\"css laomuu\">\\n   .css-laomuu{padding-right:60px;}\\n  </style>\\n  <div class=\"css-laomuu\">\\n   <style data-emotion=\"css m604qf\">\\n    .css-m604qf{font-size:16px;font-weight:600;font-style:normal;letter-spacing:-0.4px;line-height:24px;color:#0055D9;margin:0;}\\n   </style>\\n   <h2 class=\"css-m604qf\">\\n    <style data-emotion=\"css o171kl\">\\n     .css-o171kl{-webkit-text-decoration:none;text-decoration:none;color:inherit;}\\n    </style>\\n    <a class=\"css-o171kl\" href=\"/jobs/p/myw7SzZpGqFx-Illustrator-Beyond-Insurance-Brokerage-Cairo-Egypt?o=1&amp;l=sp&amp;t=sj&amp;a=illustrater|search-v3|hpb\" rel=\"noreferrer\" target=\"_blank\">\\n     Illustrator\\n    </a>\\n   </h2>\\n   <style data-emotion=\"css d7j1kk\">\\n    .css-d7j1kk{margin-bottom:8px;overflow:hidden;text-overflow:ellipsis;}\\n   </style>\\n   <div class=\"css-d7j1kk\">\\n    <style data-emotion=\"css 17s97q8\">\\n     .css-17s97q8{font-size:12px;font-weight:600;font-style:normal;letter-spacing:-0.27px;line-height:19px;color:#001433;-webkit-text-decoration:none;text-decoration:none;}\\n    </style>\\n    <a class=\"css-17s97q8\" href=\"https://wuzzuf.net/jobs/careers/Beyond-Insurance-Brokerage-Egypt-66107\" rel=\"noreferrer\" target=\"_blank\">\\n     Beyond Insurance Brokerage -\\n    </a>\\n    <style data-emotion=\"css 5wys0k\">\\n     .css-5wys0k{font-size:12px;font-weight:600;font-style:normal;letter-spacing:-0.27px;line-height:19px;color:#4D6182;}\\n    </style>\\n    <span class=\"css-5wys0k\">\\n     Maadi,\\n     <!-- -->\\n     Cairo,\\n     <!-- -->\\n     Egypt\\n    </span>\\n    <style data-emotion=\"css 4c4ojb\">\\n     .css-4c4ojb{font-size:12px;font-weight:400;font-style:normal;letter-spacing:-0.27px;line-height:19px;color:#2C9266;}\\n    </style>\\n    <div class=\"css-4c4ojb\">\\n     4 days\\n     <!-- -->\\n     ago\\n    </div>\\n   </div>\\n  </div>\\n  <style data-emotion=\"css y4udm8\">\\n   .css-y4udm8{font-size:13px;font-weight:600;font-style:normal;letter-spacing:-0.3px;line-height:20px;color:#4D6182;}\\n  </style>\\n  <div class=\"css-y4udm8\">\\n   <style data-emotion=\"css 1lh32fc\">\\n    .css-1lh32fc{display:-webkit-box;display:-webkit-flex;display:-ms-flexbox;display:flex;margin-bottom:8px;-webkit-align-items:center;-webkit-box-align:center;-ms-flex-align:center;align-items:center;-webkit-box-flex-wrap:wrap;-webkit-flex-wrap:wrap;-ms-flex-wrap:wrap;flex-wrap:wrap;}\\n   </style>\\n   <div class=\"css-1lh32fc\">\\n    <style data-emotion=\"css n2jc4m\">\\n     .css-n2jc4m{display:-webkit-inline-box;display:-webkit-inline-flex;display:-ms-inline-flexbox;display:inline-flex;-webkit-align-items:center;-webkit-box-align:center;-ms-flex-align:center;align-items:center;-webkit-text-decoration:none;text-decoration:none;color:inherit;margin-bottom:4px;}\\n    </style>\\n    <a class=\"css-n2jc4m\" href=\"/a/Full-Time-Jobs-in-Egypt\">\\n     <style data-emotion=\"css adtuo7\">\\n      .css-adtuo7{cursor:pointer;padding:0 4px;border-radius:4px;}\\n     </style>\\n     <style data-emotion=\"css 1ve4b75\">\\n      .css-1ve4b75{font-size:12px;font-weight:600;display:-webkit-inline-box;display:-webkit-inline-flex;display:-ms-inline-flexbox;display:inline-flex;-webkit-align-items:center;-webkit-box-align:center;-ms-flex-align:center;align-items:center;min-height:20px;margin-right:4px;border-radius:2px;max-width:196px;white-space:nowrap;overflow:hidden;cursor:default;text-overflow:ellipsis;padding:2px 4px;background-color:#EBEDF0;color:#001433;cursor:pointer;padding:0 4px;border-radius:4px;}\\n     </style>\\n     <span class=\"css-1ve4b75 eoyjyou0\">\\n      Full Time\\n     </span>\\n    </a>\\n   </div>\\n   <div>\\n    <a class=\"css-o171kl\" href=\"/a/Experienced-Jobs-in-Egypt\">\\n     Experienced\\n    </a>\\n    <span>\\n     ·\\n     <!-- -->\\n     3 - 5 Yrs of Exp\\n    </span>\\n    <a class=\"css-o171kl\" href=\"/a/Creative-Design-Art-Jobs-in-Egypt\">\\n     <!-- -->\\n     ·\\n     <!-- -->\\n     Creative/Design/Art\\n    </a>\\n    <a class=\"css-o171kl\" href=\"/a/Marketing-PR-Advertising-Jobs-in-Egypt\">\\n     <!-- -->\\n     ·\\n     <!-- -->\\n     Marketing/PR/Advertising\\n    </a>\\n    <a class=\"css-o171kl\" href=\"/a/Media-Journalism-Publishing-Jobs-in-Egypt\">\\n     <!-- -->\\n     ·\\n     <!-- -->\\n     Media/Journalism/Publishing\\n    </a>\\n    <style data-emotion=\"css 5x9pm1\">\\n     .css-5x9pm1{-webkit-text-decoration:none;text-decoration:none;color:inherit;max-width:calc(100vw / 2 - 32px);white-space:nowrap;overflow:hidden;text-overflow:ellipsis;display:-webkit-inline-box;display:-webkit-inline-flex;display:-ms-inline-flexbox;display:inline-flex;}\\n    </style>\\n    <a class=\"css-5x9pm1\" href=\"/a/Adobe-Photoshop-Jobs-in-Egypt\">\\n     <!-- -->\\n     ·\\n     <!-- -->\\n     Adobe Photoshop\\n    </a>\\n    <!-- -->\\n    ·\\n    <!-- -->\\n    <a class=\"css-5x9pm1\" href=\"/a/Adobe-Illustrator-Jobs-in-Egypt\">\\n     <span>\\n      <span>\\n       Adobe\\n      </span>\\n      <strong class=\"highlight\">\\n       illustrator\\n      </strong>\\n     </span>\\n    </a>\\n    <a class=\"css-5x9pm1\" href=\"/a/Graphic-Design-Jobs-in-Egypt\">\\n     <!-- -->\\n     ·\\n     <!-- -->\\n     Graphic Design\\n    </a>\\n    <a class=\"css-5x9pm1\" href=\"/a/Communication-Skills-Jobs-in-Egypt\">\\n     <!-- -->\\n     ·\\n     <!-- -->\\n     Communication skills\\n    </a>\\n    <a class=\"css-5x9pm1\" href=\"/a/Aftereffect-Jobs-in-Egypt\">\\n     <!-- -->\\n     ·\\n     <!-- -->\\n     Aftereffect\\n    </a>\\n    <a class=\"css-5x9pm1\" href=\"/a/Graphic-Jobs-in-Egypt\">\\n     <!-- -->\\n     ·\\n     <!-- -->\\n     Graphic\\n    </a>\\n    <a class=\"css-5x9pm1\" href=\"/a/Creative-Jobs-in-Egypt\">\\n     <!-- -->\\n     ·\\n     <!-- -->\\n     Creative\\n    </a>\\n   </div>\\n  </div>\\n </div>\\n</div>\\n'"
      ]
     },
     "execution_count": 131,
     "metadata": {},
     "output_type": "execute_result"
    }
   ],
   "source": [
    "bs.prettify(containers[0])"
   ]
  },
  {
   "cell_type": "code",
   "execution_count": 132,
   "metadata": {},
   "outputs": [
    {
     "name": "stdout",
     "output_type": "stream",
     "text": [
      "Illustrator\n",
      "Beyond Insurance Brokerage -\n",
      "Full Time\n"
     ]
    }
   ],
   "source": [
    "# accessing the page elements\n",
    "jtitle = containers[0].find_all('a',{'class': 'css-o171kl'})\n",
    "cname = containers[0].find_all('a', {'class':'css-17s97q8'})\n",
    "jtype = containers[0].find_all('span', {'class':'css-1ve4b75 eoyjyou0'})\n",
    "print(jtitle[0].text)\n",
    "print(cname[0].text)\n",
    "print(jtype[0].text)"
   ]
  },
  {
   "cell_type": "code",
   "execution_count": 133,
   "metadata": {},
   "outputs": [
    {
     "data": {
      "text/plain": [
       "36"
      ]
     },
     "execution_count": 133,
     "metadata": {},
     "output_type": "execute_result"
    }
   ],
   "source": [
    "# bring it all together\n",
    "f = open('wuzzuf.csv', 'w')\n",
    "header = 'job_title , company_name , job_type\\n'\n",
    "f.write(header)"
   ]
  },
  {
   "cell_type": "code",
   "execution_count": 134,
   "metadata": {},
   "outputs": [],
   "source": [
    "for container in containers:\n",
    "    jtitle = container.find_all('a',{'class': 'css-o171kl'})\n",
    "    job_title = jtitle[0].text.strip()\n",
    "    \n",
    "    cname = container.find_all('a', {'class':'css-17s97q8'})\n",
    "    company_name = cname[0].text.strip().replace('-','')\n",
    "    \n",
    "    jtype = container.find_all('span', {'class':'css-1ve4b75 eoyjyou0'})\n",
    "    job_type = jtype[0].text.strip()\n",
    "    #print(job_title + ' , ' + company_name + ' , ' + job_type)\n",
    "    #print()\n",
    "    f.write(job_title + ' , ' + company_name + ' , ' + job_type + '\\n')\n",
    "f.close()\n",
    "  \n"
   ]
  },
  {
   "cell_type": "code",
   "execution_count": 135,
   "metadata": {},
   "outputs": [
    {
     "data": {
      "text/html": [
       "<div>\n",
       "<style scoped>\n",
       "    .dataframe tbody tr th:only-of-type {\n",
       "        vertical-align: middle;\n",
       "    }\n",
       "\n",
       "    .dataframe tbody tr th {\n",
       "        vertical-align: top;\n",
       "    }\n",
       "\n",
       "    .dataframe thead th {\n",
       "        text-align: right;\n",
       "    }\n",
       "</style>\n",
       "<table border=\"1\" class=\"dataframe\">\n",
       "  <thead>\n",
       "    <tr style=\"text-align: right;\">\n",
       "      <th></th>\n",
       "      <th>job_title</th>\n",
       "      <th>company_name</th>\n",
       "      <th>job_type</th>\n",
       "    </tr>\n",
       "  </thead>\n",
       "  <tbody>\n",
       "    <tr>\n",
       "      <th>0</th>\n",
       "      <td>Illustrator</td>\n",
       "      <td>Beyond Insurance Brokerage</td>\n",
       "      <td>Full Time</td>\n",
       "    </tr>\n",
       "    <tr>\n",
       "      <th>1</th>\n",
       "      <td>Senior Illustrator</td>\n",
       "      <td>Confidential</td>\n",
       "      <td>Full Time</td>\n",
       "    </tr>\n",
       "    <tr>\n",
       "      <th>2</th>\n",
       "      <td>Senior UI/UX Designer (On site)</td>\n",
       "      <td>PaySky</td>\n",
       "      <td>Full Time</td>\n",
       "    </tr>\n",
       "    <tr>\n",
       "      <th>3</th>\n",
       "      <td>Graphic Designer</td>\n",
       "      <td>Gamers Lounge</td>\n",
       "      <td>Full Time</td>\n",
       "    </tr>\n",
       "    <tr>\n",
       "      <th>4</th>\n",
       "      <td>Graphic Designer</td>\n",
       "      <td>Ravin</td>\n",
       "      <td>Full Time</td>\n",
       "    </tr>\n",
       "    <tr>\n",
       "      <th>5</th>\n",
       "      <td>Creative Graphic Designer</td>\n",
       "      <td>Arabia for Information Technology</td>\n",
       "      <td>Full Time</td>\n",
       "    </tr>\n",
       "    <tr>\n",
       "      <th>6</th>\n",
       "      <td>Senior UI/UX Designer / Frontend</td>\n",
       "      <td>PaySky</td>\n",
       "      <td>Full Time</td>\n",
       "    </tr>\n",
       "    <tr>\n",
       "      <th>7</th>\n",
       "      <td>Graphic Designer</td>\n",
       "      <td>Confidential</td>\n",
       "      <td>Full Time</td>\n",
       "    </tr>\n",
       "    <tr>\n",
       "      <th>8</th>\n",
       "      <td>Motion Graphic Designer</td>\n",
       "      <td>New World</td>\n",
       "      <td>Full Time</td>\n",
       "    </tr>\n",
       "    <tr>\n",
       "      <th>9</th>\n",
       "      <td>Senior Graphic Designer</td>\n",
       "      <td>Confidential</td>\n",
       "      <td>Full Time</td>\n",
       "    </tr>\n",
       "    <tr>\n",
       "      <th>10</th>\n",
       "      <td>Motion Graphic Designer</td>\n",
       "      <td>Argaam</td>\n",
       "      <td>Full Time</td>\n",
       "    </tr>\n",
       "    <tr>\n",
       "      <th>11</th>\n",
       "      <td>Senior Graphic Designer - Cairo</td>\n",
       "      <td>Maxevia Corporate</td>\n",
       "      <td>Full Time</td>\n",
       "    </tr>\n",
       "    <tr>\n",
       "      <th>12</th>\n",
       "      <td>Graphic Designer</td>\n",
       "      <td>shop4build</td>\n",
       "      <td>Full Time</td>\n",
       "    </tr>\n",
       "    <tr>\n",
       "      <th>13</th>\n",
       "      <td>Graphic Designer</td>\n",
       "      <td>Global Digital Service</td>\n",
       "      <td>Full Time</td>\n",
       "    </tr>\n",
       "    <tr>\n",
       "      <th>14</th>\n",
       "      <td>Motion Graphic Designer</td>\n",
       "      <td>Artal Egypt</td>\n",
       "      <td>Full Time</td>\n",
       "    </tr>\n",
       "  </tbody>\n",
       "</table>\n",
       "</div>"
      ],
      "text/plain": [
       "                           job_title                          company_name   \\\n",
       "0                        Illustrator           Beyond Insurance Brokerage     \n",
       "1                 Senior Illustrator                         Confidential     \n",
       "2    Senior UI/UX Designer (On site)                               PaySky     \n",
       "3                   Graphic Designer                        Gamers Lounge     \n",
       "4                   Graphic Designer                                Ravin     \n",
       "5          Creative Graphic Designer    Arabia for Information Technology     \n",
       "6   Senior UI/UX Designer / Frontend                               PaySky     \n",
       "7                   Graphic Designer                         Confidential     \n",
       "8            Motion Graphic Designer                            New World     \n",
       "9            Senior Graphic Designer                         Confidential     \n",
       "10           Motion Graphic Designer                               Argaam     \n",
       "11   Senior Graphic Designer - Cairo                    Maxevia Corporate     \n",
       "12                  Graphic Designer                           shop4build     \n",
       "13                  Graphic Designer               Global Digital Service     \n",
       "14           Motion Graphic Designer                          Artal Egypt     \n",
       "\n",
       "      job_type  \n",
       "0    Full Time  \n",
       "1    Full Time  \n",
       "2    Full Time  \n",
       "3    Full Time  \n",
       "4    Full Time  \n",
       "5    Full Time  \n",
       "6    Full Time  \n",
       "7    Full Time  \n",
       "8    Full Time  \n",
       "9    Full Time  \n",
       "10   Full Time  \n",
       "11   Full Time  \n",
       "12   Full Time  \n",
       "13   Full Time  \n",
       "14   Full Time  "
      ]
     },
     "execution_count": 135,
     "metadata": {},
     "output_type": "execute_result"
    }
   ],
   "source": [
    "file = pd.read_csv('wuzzuf.csv')\n",
    "file\n"
   ]
  },
  {
   "cell_type": "code",
   "execution_count": null,
   "metadata": {},
   "outputs": [],
   "source": []
  },
  {
   "cell_type": "code",
   "execution_count": null,
   "metadata": {},
   "outputs": [],
   "source": []
  }
 ],
 "metadata": {
  "kernelspec": {
   "display_name": "Python 3",
   "language": "python",
   "name": "python3"
  },
  "language_info": {
   "codemirror_mode": {
    "name": "ipython",
    "version": 3
   },
   "file_extension": ".py",
   "mimetype": "text/x-python",
   "name": "python",
   "nbconvert_exporter": "python",
   "pygments_lexer": "ipython3",
   "version": "3.7.3"
  }
 },
 "nbformat": 4,
 "nbformat_minor": 2
}
